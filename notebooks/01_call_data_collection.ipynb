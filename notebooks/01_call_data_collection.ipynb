{
 "cells": [
  {
   "cell_type": "code",
   "execution_count": 20,
   "metadata": {},
   "outputs": [],
   "source": [
    "import requests\n",
    "import pandas as pd"
   ]
  },
  {
   "cell_type": "code",
   "execution_count": 67,
   "metadata": {},
   "outputs": [],
   "source": [
    "url = 'https://api.pushshift.io/reddit/search/submission'"
   ]
  },
  {
   "cell_type": "code",
   "execution_count": 194,
   "metadata": {},
   "outputs": [],
   "source": [
    "params = {\n",
    "    'subreddit': 'talesfromcallcenters',\n",
    "    'size': 11,\n",
    "    'before': 1526213383\n",
    "}"
   ]
  },
  {
   "cell_type": "code",
   "execution_count": 195,
   "metadata": {},
   "outputs": [],
   "source": [
    "res = requests.get(url, params)"
   ]
  },
  {
   "cell_type": "code",
   "execution_count": 196,
   "metadata": {},
   "outputs": [
    {
     "data": {
      "text/plain": [
       "True"
      ]
     },
     "execution_count": 196,
     "metadata": {},
     "output_type": "execute_result"
    }
   ],
   "source": [
    "res.ok"
   ]
  },
  {
   "cell_type": "code",
   "execution_count": 197,
   "metadata": {},
   "outputs": [],
   "source": [
    "data = res.json()"
   ]
  },
  {
   "cell_type": "code",
   "execution_count": 198,
   "metadata": {},
   "outputs": [],
   "source": [
    "posts = data['data']"
   ]
  },
  {
   "cell_type": "code",
   "execution_count": 199,
   "metadata": {},
   "outputs": [
    {
     "data": {
      "text/plain": [
       "11"
      ]
     },
     "execution_count": 199,
     "metadata": {},
     "output_type": "execute_result"
    }
   ],
   "source": [
    "len(posts)"
   ]
  },
  {
   "cell_type": "code",
   "execution_count": 200,
   "metadata": {},
   "outputs": [],
   "source": [
    "df8 = pd.DataFrame(posts)"
   ]
  },
  {
   "cell_type": "code",
   "execution_count": 201,
   "metadata": {},
   "outputs": [
    {
     "data": {
      "text/html": [
       "<div>\n",
       "<style scoped>\n",
       "    .dataframe tbody tr th:only-of-type {\n",
       "        vertical-align: middle;\n",
       "    }\n",
       "\n",
       "    .dataframe tbody tr th {\n",
       "        vertical-align: top;\n",
       "    }\n",
       "\n",
       "    .dataframe thead th {\n",
       "        text-align: right;\n",
       "    }\n",
       "</style>\n",
       "<table border=\"1\" class=\"dataframe\">\n",
       "  <thead>\n",
       "    <tr style=\"text-align: right;\">\n",
       "      <th></th>\n",
       "      <th>author</th>\n",
       "      <th>author_flair_css_class</th>\n",
       "      <th>author_flair_richtext</th>\n",
       "      <th>author_flair_text</th>\n",
       "      <th>author_flair_type</th>\n",
       "      <th>can_mod_post</th>\n",
       "      <th>contest_mode</th>\n",
       "      <th>created_utc</th>\n",
       "      <th>domain</th>\n",
       "      <th>full_link</th>\n",
       "      <th>...</th>\n",
       "      <th>subreddit_subscribers</th>\n",
       "      <th>subreddit_type</th>\n",
       "      <th>thumbnail</th>\n",
       "      <th>title</th>\n",
       "      <th>url</th>\n",
       "      <th>whitelist_status</th>\n",
       "      <th>wls</th>\n",
       "      <th>link_flair_background_color</th>\n",
       "      <th>link_flair_css_class</th>\n",
       "      <th>link_flair_text</th>\n",
       "    </tr>\n",
       "  </thead>\n",
       "  <tbody>\n",
       "    <tr>\n",
       "      <th>0</th>\n",
       "      <td>Spinnerwolf</td>\n",
       "      <td>None</td>\n",
       "      <td>[]</td>\n",
       "      <td>None</td>\n",
       "      <td>text</td>\n",
       "      <td>False</td>\n",
       "      <td>False</td>\n",
       "      <td>1526196231</td>\n",
       "      <td>self.talesfromcallcenters</td>\n",
       "      <td>https://www.reddit.com/r/talesfromcallcenters/...</td>\n",
       "      <td>...</td>\n",
       "      <td>64662</td>\n",
       "      <td>public</td>\n",
       "      <td>self</td>\n",
       "      <td>Pet Policy</td>\n",
       "      <td>https://www.reddit.com/r/talesfromcallcenters/...</td>\n",
       "      <td>all_ads</td>\n",
       "      <td>6</td>\n",
       "      <td>NaN</td>\n",
       "      <td>NaN</td>\n",
       "      <td>NaN</td>\n",
       "    </tr>\n",
       "    <tr>\n",
       "      <th>1</th>\n",
       "      <td>peacesalaamz</td>\n",
       "      <td>None</td>\n",
       "      <td>[]</td>\n",
       "      <td>None</td>\n",
       "      <td>text</td>\n",
       "      <td>False</td>\n",
       "      <td>False</td>\n",
       "      <td>1526133151</td>\n",
       "      <td>self.talesfromcallcenters</td>\n",
       "      <td>https://www.reddit.com/r/talesfromcallcenters/...</td>\n",
       "      <td>...</td>\n",
       "      <td>64586</td>\n",
       "      <td>public</td>\n",
       "      <td>self</td>\n",
       "      <td>When A Scammer Demands You Authorise the Custo...</td>\n",
       "      <td>https://www.reddit.com/r/talesfromcallcenters/...</td>\n",
       "      <td>all_ads</td>\n",
       "      <td>6</td>\n",
       "      <td></td>\n",
       "      <td>long</td>\n",
       "      <td>L</td>\n",
       "    </tr>\n",
       "    <tr>\n",
       "      <th>2</th>\n",
       "      <td>zenlittleplatypus</td>\n",
       "      <td>None</td>\n",
       "      <td>[]</td>\n",
       "      <td>None</td>\n",
       "      <td>text</td>\n",
       "      <td>False</td>\n",
       "      <td>False</td>\n",
       "      <td>1526068508</td>\n",
       "      <td>self.talesfromcallcenters</td>\n",
       "      <td>https://www.reddit.com/r/talesfromcallcenters/...</td>\n",
       "      <td>...</td>\n",
       "      <td>64511</td>\n",
       "      <td>public</td>\n",
       "      <td>self</td>\n",
       "      <td>Trolling The Trolls</td>\n",
       "      <td>https://www.reddit.com/r/talesfromcallcenters/...</td>\n",
       "      <td>all_ads</td>\n",
       "      <td>6</td>\n",
       "      <td></td>\n",
       "      <td>short</td>\n",
       "      <td>S</td>\n",
       "    </tr>\n",
       "    <tr>\n",
       "      <th>3</th>\n",
       "      <td>wanderernz</td>\n",
       "      <td>None</td>\n",
       "      <td>[]</td>\n",
       "      <td>None</td>\n",
       "      <td>text</td>\n",
       "      <td>False</td>\n",
       "      <td>False</td>\n",
       "      <td>1526020236</td>\n",
       "      <td>self.talesfromcallcenters</td>\n",
       "      <td>https://www.reddit.com/r/talesfromcallcenters/...</td>\n",
       "      <td>...</td>\n",
       "      <td>64468</td>\n",
       "      <td>public</td>\n",
       "      <td>self</td>\n",
       "      <td>Liar liar pants on fire</td>\n",
       "      <td>https://www.reddit.com/r/talesfromcallcenters/...</td>\n",
       "      <td>all_ads</td>\n",
       "      <td>6</td>\n",
       "      <td></td>\n",
       "      <td>short</td>\n",
       "      <td>S</td>\n",
       "    </tr>\n",
       "    <tr>\n",
       "      <th>4</th>\n",
       "      <td>AutoModerator</td>\n",
       "      <td>None</td>\n",
       "      <td>[]</td>\n",
       "      <td>None</td>\n",
       "      <td>text</td>\n",
       "      <td>False</td>\n",
       "      <td>False</td>\n",
       "      <td>1526018803</td>\n",
       "      <td>self.talesfromcallcenters</td>\n",
       "      <td>https://www.reddit.com/r/talesfromcallcenters/...</td>\n",
       "      <td>...</td>\n",
       "      <td>64467</td>\n",
       "      <td>public</td>\n",
       "      <td>self</td>\n",
       "      <td>Free Talk Friday - May 11</td>\n",
       "      <td>https://www.reddit.com/r/talesfromcallcenters/...</td>\n",
       "      <td>all_ads</td>\n",
       "      <td>6</td>\n",
       "      <td></td>\n",
       "      <td>short</td>\n",
       "      <td>S</td>\n",
       "    </tr>\n",
       "  </tbody>\n",
       "</table>\n",
       "<p>5 rows × 48 columns</p>\n",
       "</div>"
      ],
      "text/plain": [
       "              author author_flair_css_class author_flair_richtext  \\\n",
       "0        Spinnerwolf                   None                    []   \n",
       "1       peacesalaamz                   None                    []   \n",
       "2  zenlittleplatypus                   None                    []   \n",
       "3         wanderernz                   None                    []   \n",
       "4      AutoModerator                   None                    []   \n",
       "\n",
       "  author_flair_text author_flair_type  can_mod_post  contest_mode  \\\n",
       "0              None              text         False         False   \n",
       "1              None              text         False         False   \n",
       "2              None              text         False         False   \n",
       "3              None              text         False         False   \n",
       "4              None              text         False         False   \n",
       "\n",
       "   created_utc                     domain  \\\n",
       "0   1526196231  self.talesfromcallcenters   \n",
       "1   1526133151  self.talesfromcallcenters   \n",
       "2   1526068508  self.talesfromcallcenters   \n",
       "3   1526020236  self.talesfromcallcenters   \n",
       "4   1526018803  self.talesfromcallcenters   \n",
       "\n",
       "                                           full_link  ...  \\\n",
       "0  https://www.reddit.com/r/talesfromcallcenters/...  ...   \n",
       "1  https://www.reddit.com/r/talesfromcallcenters/...  ...   \n",
       "2  https://www.reddit.com/r/talesfromcallcenters/...  ...   \n",
       "3  https://www.reddit.com/r/talesfromcallcenters/...  ...   \n",
       "4  https://www.reddit.com/r/talesfromcallcenters/...  ...   \n",
       "\n",
       "   subreddit_subscribers subreddit_type  thumbnail  \\\n",
       "0                  64662         public       self   \n",
       "1                  64586         public       self   \n",
       "2                  64511         public       self   \n",
       "3                  64468         public       self   \n",
       "4                  64467         public       self   \n",
       "\n",
       "                                               title  \\\n",
       "0                                         Pet Policy   \n",
       "1  When A Scammer Demands You Authorise the Custo...   \n",
       "2                                Trolling The Trolls   \n",
       "3                            Liar liar pants on fire   \n",
       "4                          Free Talk Friday - May 11   \n",
       "\n",
       "                                                 url  whitelist_status  wls  \\\n",
       "0  https://www.reddit.com/r/talesfromcallcenters/...           all_ads    6   \n",
       "1  https://www.reddit.com/r/talesfromcallcenters/...           all_ads    6   \n",
       "2  https://www.reddit.com/r/talesfromcallcenters/...           all_ads    6   \n",
       "3  https://www.reddit.com/r/talesfromcallcenters/...           all_ads    6   \n",
       "4  https://www.reddit.com/r/talesfromcallcenters/...           all_ads    6   \n",
       "\n",
       "  link_flair_background_color link_flair_css_class link_flair_text  \n",
       "0                         NaN                  NaN             NaN  \n",
       "1                                             long               L  \n",
       "2                                            short               S  \n",
       "3                                            short               S  \n",
       "4                                            short               S  \n",
       "\n",
       "[5 rows x 48 columns]"
      ]
     },
     "execution_count": 201,
     "metadata": {},
     "output_type": "execute_result"
    }
   ],
   "source": [
    "df8.head()"
   ]
  },
  {
   "cell_type": "code",
   "execution_count": 193,
   "metadata": {},
   "outputs": [
    {
     "data": {
      "text/plain": [
       "3986    1526357383\n",
       "3987    1526328240\n",
       "3988    1526323383\n",
       "Name: created_utc, dtype: int64"
      ]
     },
     "execution_count": 193,
     "metadata": {},
     "output_type": "execute_result"
    }
   ],
   "source": [
    "df['created_utc'].tail(3)"
   ]
  },
  {
   "cell_type": "code",
   "execution_count": 202,
   "metadata": {},
   "outputs": [],
   "source": [
    "df = df.append(df8, ignore_index = True) "
   ]
  },
  {
   "cell_type": "code",
   "execution_count": 208,
   "metadata": {},
   "outputs": [
    {
     "data": {
      "text/plain": [
       "4000"
      ]
     },
     "execution_count": 208,
     "metadata": {},
     "output_type": "execute_result"
    }
   ],
   "source": [
    "df['title'].value_counts().sum()"
   ]
  },
  {
   "cell_type": "code",
   "execution_count": 209,
   "metadata": {},
   "outputs": [
    {
     "data": {
      "text/plain": [
       "0"
      ]
     },
     "execution_count": 209,
     "metadata": {},
     "output_type": "execute_result"
    }
   ],
   "source": [
    "df['created_utc'].duplicated().sum()"
   ]
  },
  {
   "cell_type": "code",
   "execution_count": 179,
   "metadata": {},
   "outputs": [
    {
     "data": {
      "text/plain": [
       "3495             This literally just happened\n",
       "3496                    I need a quote NOW!!!\n",
       "3497    The One Time We Got Lucky on a Survey\n",
       "3498        This is the policy, I assure you.\n",
       "3499                How do make sense of this\n",
       "Name: title, dtype: object"
      ]
     },
     "execution_count": 179,
     "metadata": {},
     "output_type": "execute_result"
    }
   ],
   "source": [
    "df['title'].tail()"
   ]
  },
  {
   "cell_type": "code",
   "execution_count": 210,
   "metadata": {},
   "outputs": [
    {
     "data": {
      "text/plain": [
       "0"
      ]
     },
     "execution_count": 210,
     "metadata": {},
     "output_type": "execute_result"
    }
   ],
   "source": [
    "df['title'].duplicated().sum()"
   ]
  },
  {
   "cell_type": "code",
   "execution_count": 178,
   "metadata": {},
   "outputs": [
    {
     "data": {
      "text/plain": [
       "989                           ”Yeah, but what time zone?”\n",
       "1936                           ”THIS IS ROBBERY! THEFT!!”\n",
       "754     “i’m gonna send my team out to destroy your co...\n",
       "753     “i’m going to send my team out to destroy your...\n",
       "1528            “You’ve ruined Christmas!” — sure I have.\n",
       "                              ...                        \n",
       "2565          \"And I want the name of the FBI agent too!\"\n",
       "1127            \"An apple a day keeps the aoctopus away!\"\n",
       "1983    \"A year has passed and you still haven't refun...\n",
       "605                         \"16 Minutes is unacceptable!\"\n",
       "3250                       \"...blood all over my sheets.\"\n",
       "Name: title, Length: 3489, dtype: object"
      ]
     },
     "execution_count": 178,
     "metadata": {},
     "output_type": "execute_result"
    }
   ],
   "source": [
    "df['title'].sort_values(ascending=False)"
   ]
  },
  {
   "cell_type": "code",
   "execution_count": 212,
   "metadata": {},
   "outputs": [
    {
     "data": {
      "text/plain": [
       "0               What do you guys enjoy about your job?\n",
       "1                        Why the rich stay rich, maybe\n",
       "2                                   Speechless and sad\n",
       "3                 Misogynistic Guy Demands A Pie Chart\n",
       "4         Customer angry refunds are not instantaneous\n",
       "5                          Paycheck Protection Program\n",
       "6    I wonder if that customer still thinks about t...\n",
       "7    Have You Ever Gone the Extra Mile simply becau...\n",
       "8    The amount of calls of people calling out gene...\n",
       "9                Thank you from a call center customer\n",
       "Name: title, dtype: object"
      ]
     },
     "execution_count": 212,
     "metadata": {},
     "output_type": "execute_result"
    }
   ],
   "source": [
    "df['title'].head(10)"
   ]
  },
  {
   "cell_type": "code",
   "execution_count": 213,
   "metadata": {},
   "outputs": [],
   "source": [
    "df.to_csv('call.csv', index=False)"
   ]
  },
  {
   "cell_type": "code",
   "execution_count": null,
   "metadata": {},
   "outputs": [],
   "source": []
  }
 ],
 "metadata": {
  "kernelspec": {
   "display_name": "Python 3",
   "language": "python",
   "name": "python3"
  },
  "language_info": {
   "codemirror_mode": {
    "name": "ipython",
    "version": 3
   },
   "file_extension": ".py",
   "mimetype": "text/x-python",
   "name": "python",
   "nbconvert_exporter": "python",
   "pygments_lexer": "ipython3",
   "version": "3.7.6"
  }
 },
 "nbformat": 4,
 "nbformat_minor": 4
}
