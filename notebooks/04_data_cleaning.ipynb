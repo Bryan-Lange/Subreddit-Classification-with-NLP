{
 "cells": [
  {
   "cell_type": "code",
   "execution_count": 1,
   "metadata": {},
   "outputs": [],
   "source": [
    "import pandas as pd\n",
    "import numpy as np\n",
    "import seaborn as sns\n",
    "import matplotlib.pyplot as plt\n",
    "from sklearn.feature_extraction.text import CountVectorizer, TfidfVectorizer\n",
    "from sklearn.pipeline import Pipeline\n",
    "from sklearn.model_selection import train_test_split, GridSearchCV, cross_val_score\n",
    "from sklearn.linear_model import LogisticRegression\n",
    "from sklearn.naive_bayes import MultinomialNB\n",
    "from sklearn.naive_bayes import GaussianNB\n",
    "from sklearn.naive_bayes import BernoulliNB\n",
    "import nltk\n",
    "import regex as re\n",
    "from nltk.corpus import stopwords\n",
    "from sklearn.linear_model import LogisticRegression\n",
    "from nltk.stem import WordNetLemmatizer\n",
    "from nltk.tokenize import RegexpTokenizer\n",
    "from bs4 import BeautifulSoup\n",
    "%matplotlib inline"
   ]
  },
  {
   "cell_type": "code",
   "execution_count": 2,
   "metadata": {},
   "outputs": [],
   "source": [
    "df = pd.read_csv('../data_csv/joined_df.csv')"
   ]
  },
  {
   "cell_type": "code",
   "execution_count": 3,
   "metadata": {},
   "outputs": [],
   "source": [
    "df = df[['title', 'selftext', 'subreddit']]"
   ]
  },
  {
   "cell_type": "code",
   "execution_count": 4,
   "metadata": {},
   "outputs": [
    {
     "data": {
      "text/html": [
       "<div>\n",
       "<style scoped>\n",
       "    .dataframe tbody tr th:only-of-type {\n",
       "        vertical-align: middle;\n",
       "    }\n",
       "\n",
       "    .dataframe tbody tr th {\n",
       "        vertical-align: top;\n",
       "    }\n",
       "\n",
       "    .dataframe thead th {\n",
       "        text-align: right;\n",
       "    }\n",
       "</style>\n",
       "<table border=\"1\" class=\"dataframe\">\n",
       "  <thead>\n",
       "    <tr style=\"text-align: right;\">\n",
       "      <th></th>\n",
       "      <th>title</th>\n",
       "      <th>selftext</th>\n",
       "      <th>subreddit</th>\n",
       "    </tr>\n",
       "  </thead>\n",
       "  <tbody>\n",
       "    <tr>\n",
       "      <th>0</th>\n",
       "      <td>What do you guys enjoy about your job?</td>\n",
       "      <td>Call centre work is fucking hard, and for the ...</td>\n",
       "      <td>talesfromcallcenters</td>\n",
       "    </tr>\n",
       "    <tr>\n",
       "      <th>1</th>\n",
       "      <td>Why the rich stay rich, maybe</td>\n",
       "      <td>TLDR at end \\n\\nI work in a credit card call c...</td>\n",
       "      <td>talesfromcallcenters</td>\n",
       "    </tr>\n",
       "    <tr>\n",
       "      <th>2</th>\n",
       "      <td>Speechless and sad</td>\n",
       "      <td>I am an occasional customer of various call ce...</td>\n",
       "      <td>talesfromcallcenters</td>\n",
       "    </tr>\n",
       "    <tr>\n",
       "      <th>3</th>\n",
       "      <td>Misogynistic Guy Demands A Pie Chart</td>\n",
       "      <td>I've never posted on reddit before! So if some...</td>\n",
       "      <td>talesfromcallcenters</td>\n",
       "    </tr>\n",
       "    <tr>\n",
       "      <th>4</th>\n",
       "      <td>Customer angry refunds are not instantaneous</td>\n",
       "      <td>I had to explain that refunds do not instantly...</td>\n",
       "      <td>talesfromcallcenters</td>\n",
       "    </tr>\n",
       "  </tbody>\n",
       "</table>\n",
       "</div>"
      ],
      "text/plain": [
       "                                          title  \\\n",
       "0        What do you guys enjoy about your job?   \n",
       "1                 Why the rich stay rich, maybe   \n",
       "2                            Speechless and sad   \n",
       "3          Misogynistic Guy Demands A Pie Chart   \n",
       "4  Customer angry refunds are not instantaneous   \n",
       "\n",
       "                                            selftext             subreddit  \n",
       "0  Call centre work is fucking hard, and for the ...  talesfromcallcenters  \n",
       "1  TLDR at end \\n\\nI work in a credit card call c...  talesfromcallcenters  \n",
       "2  I am an occasional customer of various call ce...  talesfromcallcenters  \n",
       "3  I've never posted on reddit before! So if some...  talesfromcallcenters  \n",
       "4  I had to explain that refunds do not instantly...  talesfromcallcenters  "
      ]
     },
     "execution_count": 4,
     "metadata": {},
     "output_type": "execute_result"
    }
   ],
   "source": [
    "df.head()"
   ]
  },
  {
   "cell_type": "code",
   "execution_count": 5,
   "metadata": {},
   "outputs": [],
   "source": [
    "df.subreddit = df.subreddit.map(lambda sub: 0 if sub == 'TalesFromRetail' else 1)"
   ]
  },
  {
   "cell_type": "code",
   "execution_count": 6,
   "metadata": {},
   "outputs": [
    {
     "data": {
      "text/plain": [
       "title          0\n",
       "selftext     144\n",
       "subreddit      0\n",
       "dtype: int64"
      ]
     },
     "execution_count": 6,
     "metadata": {},
     "output_type": "execute_result"
    }
   ],
   "source": [
    "df.isna().sum()"
   ]
  },
  {
   "cell_type": "code",
   "execution_count": 7,
   "metadata": {},
   "outputs": [
    {
     "data": {
      "text/plain": [
       "(8000, 3)"
      ]
     },
     "execution_count": 7,
     "metadata": {},
     "output_type": "execute_result"
    }
   ],
   "source": [
    "df.shape"
   ]
  },
  {
   "cell_type": "code",
   "execution_count": 8,
   "metadata": {},
   "outputs": [],
   "source": [
    "df = df[df.selftext.notnull()]"
   ]
  },
  {
   "cell_type": "code",
   "execution_count": 9,
   "metadata": {},
   "outputs": [
    {
     "data": {
      "text/plain": [
       "(7856, 3)"
      ]
     },
     "execution_count": 9,
     "metadata": {},
     "output_type": "execute_result"
    }
   ],
   "source": [
    "df.shape"
   ]
  },
  {
   "cell_type": "code",
   "execution_count": 11,
   "metadata": {},
   "outputs": [],
   "source": [
    "df = df[~df.selftext.str.contains(\"removed\")]"
   ]
  },
  {
   "cell_type": "code",
   "execution_count": 12,
   "metadata": {},
   "outputs": [
    {
     "data": {
      "text/html": [
       "<div>\n",
       "<style scoped>\n",
       "    .dataframe tbody tr th:only-of-type {\n",
       "        vertical-align: middle;\n",
       "    }\n",
       "\n",
       "    .dataframe tbody tr th {\n",
       "        vertical-align: top;\n",
       "    }\n",
       "\n",
       "    .dataframe thead th {\n",
       "        text-align: right;\n",
       "    }\n",
       "</style>\n",
       "<table border=\"1\" class=\"dataframe\">\n",
       "  <thead>\n",
       "    <tr style=\"text-align: right;\">\n",
       "      <th></th>\n",
       "      <th>title</th>\n",
       "      <th>selftext</th>\n",
       "      <th>subreddit</th>\n",
       "    </tr>\n",
       "  </thead>\n",
       "  <tbody>\n",
       "    <tr>\n",
       "      <th>0</th>\n",
       "      <td>What do you guys enjoy about your job?</td>\n",
       "      <td>Call centre work is fucking hard, and for the ...</td>\n",
       "      <td>1</td>\n",
       "    </tr>\n",
       "    <tr>\n",
       "      <th>1</th>\n",
       "      <td>Why the rich stay rich, maybe</td>\n",
       "      <td>TLDR at end \\n\\nI work in a credit card call c...</td>\n",
       "      <td>1</td>\n",
       "    </tr>\n",
       "    <tr>\n",
       "      <th>2</th>\n",
       "      <td>Speechless and sad</td>\n",
       "      <td>I am an occasional customer of various call ce...</td>\n",
       "      <td>1</td>\n",
       "    </tr>\n",
       "    <tr>\n",
       "      <th>3</th>\n",
       "      <td>Misogynistic Guy Demands A Pie Chart</td>\n",
       "      <td>I've never posted on reddit before! So if some...</td>\n",
       "      <td>1</td>\n",
       "    </tr>\n",
       "    <tr>\n",
       "      <th>4</th>\n",
       "      <td>Customer angry refunds are not instantaneous</td>\n",
       "      <td>I had to explain that refunds do not instantly...</td>\n",
       "      <td>1</td>\n",
       "    </tr>\n",
       "    <tr>\n",
       "      <th>...</th>\n",
       "      <td>...</td>\n",
       "      <td>...</td>\n",
       "      <td>...</td>\n",
       "    </tr>\n",
       "    <tr>\n",
       "      <th>7990</th>\n",
       "      <td>This ain't a bike road</td>\n",
       "      <td>Hey first tine poster. I thought this was wort...</td>\n",
       "      <td>0</td>\n",
       "    </tr>\n",
       "    <tr>\n",
       "      <th>7993</th>\n",
       "      <td>Give me my $10,000</td>\n",
       "      <td>The place i work has a custom pos system and h...</td>\n",
       "      <td>0</td>\n",
       "    </tr>\n",
       "    <tr>\n",
       "      <th>7995</th>\n",
       "      <td>How to explain without making the customer sou...</td>\n",
       "      <td>I was working in hardware and a customer calle...</td>\n",
       "      <td>0</td>\n",
       "    </tr>\n",
       "    <tr>\n",
       "      <th>7996</th>\n",
       "      <td>Oh What a Night! (October 2019)</td>\n",
       "      <td>So I had my previous post about an issue at th...</td>\n",
       "      <td>0</td>\n",
       "    </tr>\n",
       "    <tr>\n",
       "      <th>7999</th>\n",
       "      <td>I Know You Just Told Me, But When?</td>\n",
       "      <td>So due to renovations at my job, our photocopi...</td>\n",
       "      <td>0</td>\n",
       "    </tr>\n",
       "  </tbody>\n",
       "</table>\n",
       "<p>5309 rows × 3 columns</p>\n",
       "</div>"
      ],
      "text/plain": [
       "                                                  title  \\\n",
       "0                What do you guys enjoy about your job?   \n",
       "1                         Why the rich stay rich, maybe   \n",
       "2                                    Speechless and sad   \n",
       "3                  Misogynistic Guy Demands A Pie Chart   \n",
       "4          Customer angry refunds are not instantaneous   \n",
       "...                                                 ...   \n",
       "7990                             This ain't a bike road   \n",
       "7993                                 Give me my $10,000   \n",
       "7995  How to explain without making the customer sou...   \n",
       "7996                    Oh What a Night! (October 2019)   \n",
       "7999                 I Know You Just Told Me, But When?   \n",
       "\n",
       "                                               selftext  subreddit  \n",
       "0     Call centre work is fucking hard, and for the ...          1  \n",
       "1     TLDR at end \\n\\nI work in a credit card call c...          1  \n",
       "2     I am an occasional customer of various call ce...          1  \n",
       "3     I've never posted on reddit before! So if some...          1  \n",
       "4     I had to explain that refunds do not instantly...          1  \n",
       "...                                                 ...        ...  \n",
       "7990  Hey first tine poster. I thought this was wort...          0  \n",
       "7993  The place i work has a custom pos system and h...          0  \n",
       "7995  I was working in hardware and a customer calle...          0  \n",
       "7996  So I had my previous post about an issue at th...          0  \n",
       "7999  So due to renovations at my job, our photocopi...          0  \n",
       "\n",
       "[5309 rows x 3 columns]"
      ]
     },
     "execution_count": 12,
     "metadata": {},
     "output_type": "execute_result"
    }
   ],
   "source": [
    "df"
   ]
  },
  {
   "cell_type": "code",
   "execution_count": 13,
   "metadata": {},
   "outputs": [],
   "source": [
    "df = df[~df.selftext.str.contains(\"deleted\")]"
   ]
  },
  {
   "cell_type": "code",
   "execution_count": 14,
   "metadata": {},
   "outputs": [
    {
     "data": {
      "text/html": [
       "<div>\n",
       "<style scoped>\n",
       "    .dataframe tbody tr th:only-of-type {\n",
       "        vertical-align: middle;\n",
       "    }\n",
       "\n",
       "    .dataframe tbody tr th {\n",
       "        vertical-align: top;\n",
       "    }\n",
       "\n",
       "    .dataframe thead th {\n",
       "        text-align: right;\n",
       "    }\n",
       "</style>\n",
       "<table border=\"1\" class=\"dataframe\">\n",
       "  <thead>\n",
       "    <tr style=\"text-align: right;\">\n",
       "      <th></th>\n",
       "      <th>title</th>\n",
       "      <th>selftext</th>\n",
       "      <th>subreddit</th>\n",
       "    </tr>\n",
       "  </thead>\n",
       "  <tbody>\n",
       "    <tr>\n",
       "      <th>0</th>\n",
       "      <td>What do you guys enjoy about your job?</td>\n",
       "      <td>Call centre work is fucking hard, and for the ...</td>\n",
       "      <td>1</td>\n",
       "    </tr>\n",
       "    <tr>\n",
       "      <th>1</th>\n",
       "      <td>Why the rich stay rich, maybe</td>\n",
       "      <td>TLDR at end \\n\\nI work in a credit card call c...</td>\n",
       "      <td>1</td>\n",
       "    </tr>\n",
       "    <tr>\n",
       "      <th>2</th>\n",
       "      <td>Speechless and sad</td>\n",
       "      <td>I am an occasional customer of various call ce...</td>\n",
       "      <td>1</td>\n",
       "    </tr>\n",
       "    <tr>\n",
       "      <th>3</th>\n",
       "      <td>Misogynistic Guy Demands A Pie Chart</td>\n",
       "      <td>I've never posted on reddit before! So if some...</td>\n",
       "      <td>1</td>\n",
       "    </tr>\n",
       "    <tr>\n",
       "      <th>4</th>\n",
       "      <td>Customer angry refunds are not instantaneous</td>\n",
       "      <td>I had to explain that refunds do not instantly...</td>\n",
       "      <td>1</td>\n",
       "    </tr>\n",
       "    <tr>\n",
       "      <th>...</th>\n",
       "      <td>...</td>\n",
       "      <td>...</td>\n",
       "      <td>...</td>\n",
       "    </tr>\n",
       "    <tr>\n",
       "      <th>7990</th>\n",
       "      <td>This ain't a bike road</td>\n",
       "      <td>Hey first tine poster. I thought this was wort...</td>\n",
       "      <td>0</td>\n",
       "    </tr>\n",
       "    <tr>\n",
       "      <th>7993</th>\n",
       "      <td>Give me my $10,000</td>\n",
       "      <td>The place i work has a custom pos system and h...</td>\n",
       "      <td>0</td>\n",
       "    </tr>\n",
       "    <tr>\n",
       "      <th>7995</th>\n",
       "      <td>How to explain without making the customer sou...</td>\n",
       "      <td>I was working in hardware and a customer calle...</td>\n",
       "      <td>0</td>\n",
       "    </tr>\n",
       "    <tr>\n",
       "      <th>7996</th>\n",
       "      <td>Oh What a Night! (October 2019)</td>\n",
       "      <td>So I had my previous post about an issue at th...</td>\n",
       "      <td>0</td>\n",
       "    </tr>\n",
       "    <tr>\n",
       "      <th>7999</th>\n",
       "      <td>I Know You Just Told Me, But When?</td>\n",
       "      <td>So due to renovations at my job, our photocopi...</td>\n",
       "      <td>0</td>\n",
       "    </tr>\n",
       "  </tbody>\n",
       "</table>\n",
       "<p>5277 rows × 3 columns</p>\n",
       "</div>"
      ],
      "text/plain": [
       "                                                  title  \\\n",
       "0                What do you guys enjoy about your job?   \n",
       "1                         Why the rich stay rich, maybe   \n",
       "2                                    Speechless and sad   \n",
       "3                  Misogynistic Guy Demands A Pie Chart   \n",
       "4          Customer angry refunds are not instantaneous   \n",
       "...                                                 ...   \n",
       "7990                             This ain't a bike road   \n",
       "7993                                 Give me my $10,000   \n",
       "7995  How to explain without making the customer sou...   \n",
       "7996                    Oh What a Night! (October 2019)   \n",
       "7999                 I Know You Just Told Me, But When?   \n",
       "\n",
       "                                               selftext  subreddit  \n",
       "0     Call centre work is fucking hard, and for the ...          1  \n",
       "1     TLDR at end \\n\\nI work in a credit card call c...          1  \n",
       "2     I am an occasional customer of various call ce...          1  \n",
       "3     I've never posted on reddit before! So if some...          1  \n",
       "4     I had to explain that refunds do not instantly...          1  \n",
       "...                                                 ...        ...  \n",
       "7990  Hey first tine poster. I thought this was wort...          0  \n",
       "7993  The place i work has a custom pos system and h...          0  \n",
       "7995  I was working in hardware and a customer calle...          0  \n",
       "7996  So I had my previous post about an issue at th...          0  \n",
       "7999  So due to renovations at my job, our photocopi...          0  \n",
       "\n",
       "[5277 rows x 3 columns]"
      ]
     },
     "execution_count": 14,
     "metadata": {},
     "output_type": "execute_result"
    }
   ],
   "source": [
    "df"
   ]
  },
  {
   "cell_type": "code",
   "execution_count": 15,
   "metadata": {},
   "outputs": [
    {
     "data": {
      "text/plain": [
       "title        0\n",
       "selftext     0\n",
       "subreddit    0\n",
       "dtype: int64"
      ]
     },
     "execution_count": 15,
     "metadata": {},
     "output_type": "execute_result"
    }
   ],
   "source": [
    "df.isna().sum()"
   ]
  },
  {
   "cell_type": "code",
   "execution_count": 16,
   "metadata": {},
   "outputs": [
    {
     "data": {
      "text/plain": [
       "1    0.633693\n",
       "0    0.366307\n",
       "Name: subreddit, dtype: float64"
      ]
     },
     "execution_count": 16,
     "metadata": {},
     "output_type": "execute_result"
    }
   ],
   "source": [
    "df['subreddit'].value_counts(normalize=True)"
   ]
  },
  {
   "cell_type": "code",
   "execution_count": 17,
   "metadata": {},
   "outputs": [],
   "source": [
    "#df.to_csv('../data_csv/clean.csv', index=False)"
   ]
  },
  {
   "cell_type": "code",
   "execution_count": 18,
   "metadata": {},
   "outputs": [
    {
     "data": {
      "text/plain": [
       "(5277, 3)"
      ]
     },
     "execution_count": 18,
     "metadata": {},
     "output_type": "execute_result"
    }
   ],
   "source": [
    "df.shape"
   ]
  },
  {
   "cell_type": "code",
   "execution_count": null,
   "metadata": {},
   "outputs": [],
   "source": []
  }
 ],
 "metadata": {
  "kernelspec": {
   "display_name": "Python 3",
   "language": "python",
   "name": "python3"
  },
  "language_info": {
   "codemirror_mode": {
    "name": "ipython",
    "version": 3
   },
   "file_extension": ".py",
   "mimetype": "text/x-python",
   "name": "python",
   "nbconvert_exporter": "python",
   "pygments_lexer": "ipython3",
   "version": "3.7.6"
  }
 },
 "nbformat": 4,
 "nbformat_minor": 4
}
