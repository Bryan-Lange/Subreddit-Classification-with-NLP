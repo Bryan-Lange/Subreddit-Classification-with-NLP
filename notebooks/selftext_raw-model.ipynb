{
 "cells": [
  {
   "cell_type": "code",
   "execution_count": 1,
   "metadata": {},
   "outputs": [],
   "source": [
    "import pandas as pd\n",
    "import numpy as np\n",
    "import seaborn as sns\n",
    "import matplotlib.pyplot as plt\n",
    "from sklearn.feature_extraction.text import CountVectorizer, TfidfVectorizer\n",
    "from sklearn.pipeline import Pipeline\n",
    "from sklearn.model_selection import train_test_split, GridSearchCV, cross_val_score\n",
    "from sklearn.linear_model import LogisticRegression\n",
    "from sklearn.naive_bayes import MultinomialNB\n",
    "from sklearn.naive_bayes import GaussianNB\n",
    "from sklearn.naive_bayes import BernoulliNB\n",
    "import nltk\n",
    "import regex as re\n",
    "from nltk.corpus import stopwords\n",
    "from sklearn.linear_model import LogisticRegression\n",
    "from nltk.stem import WordNetLemmatizer\n",
    "from nltk.tokenize import RegexpTokenizer\n",
    "from bs4 import BeautifulSoup\n",
    "%matplotlib inline"
   ]
  },
  {
   "cell_type": "code",
   "execution_count": 2,
   "metadata": {},
   "outputs": [],
   "source": [
    "df = pd.read_csv('../data_csv/clean.csv')"
   ]
  },
  {
   "cell_type": "code",
   "execution_count": 3,
   "metadata": {},
   "outputs": [
    {
     "data": {
      "text/html": [
       "<div>\n",
       "<style scoped>\n",
       "    .dataframe tbody tr th:only-of-type {\n",
       "        vertical-align: middle;\n",
       "    }\n",
       "\n",
       "    .dataframe tbody tr th {\n",
       "        vertical-align: top;\n",
       "    }\n",
       "\n",
       "    .dataframe thead th {\n",
       "        text-align: right;\n",
       "    }\n",
       "</style>\n",
       "<table border=\"1\" class=\"dataframe\">\n",
       "  <thead>\n",
       "    <tr style=\"text-align: right;\">\n",
       "      <th></th>\n",
       "      <th>title</th>\n",
       "      <th>selftext</th>\n",
       "      <th>subreddit</th>\n",
       "    </tr>\n",
       "  </thead>\n",
       "  <tbody>\n",
       "    <tr>\n",
       "      <th>0</th>\n",
       "      <td>What do you guys enjoy about your job?</td>\n",
       "      <td>Call centre work is fucking hard, and for the ...</td>\n",
       "      <td>1</td>\n",
       "    </tr>\n",
       "    <tr>\n",
       "      <th>1</th>\n",
       "      <td>Why the rich stay rich, maybe</td>\n",
       "      <td>TLDR at end \\n\\nI work in a credit card call c...</td>\n",
       "      <td>1</td>\n",
       "    </tr>\n",
       "    <tr>\n",
       "      <th>2</th>\n",
       "      <td>Speechless and sad</td>\n",
       "      <td>I am an occasional customer of various call ce...</td>\n",
       "      <td>1</td>\n",
       "    </tr>\n",
       "    <tr>\n",
       "      <th>3</th>\n",
       "      <td>Misogynistic Guy Demands A Pie Chart</td>\n",
       "      <td>I've never posted on reddit before! So if some...</td>\n",
       "      <td>1</td>\n",
       "    </tr>\n",
       "    <tr>\n",
       "      <th>4</th>\n",
       "      <td>Customer angry refunds are not instantaneous</td>\n",
       "      <td>I had to explain that refunds do not instantly...</td>\n",
       "      <td>1</td>\n",
       "    </tr>\n",
       "    <tr>\n",
       "      <th>...</th>\n",
       "      <td>...</td>\n",
       "      <td>...</td>\n",
       "      <td>...</td>\n",
       "    </tr>\n",
       "    <tr>\n",
       "      <th>5272</th>\n",
       "      <td>This ain't a bike road</td>\n",
       "      <td>Hey first tine poster. I thought this was wort...</td>\n",
       "      <td>0</td>\n",
       "    </tr>\n",
       "    <tr>\n",
       "      <th>5273</th>\n",
       "      <td>Give me my $10,000</td>\n",
       "      <td>The place i work has a custom pos system and h...</td>\n",
       "      <td>0</td>\n",
       "    </tr>\n",
       "    <tr>\n",
       "      <th>5274</th>\n",
       "      <td>How to explain without making the customer sou...</td>\n",
       "      <td>I was working in hardware and a customer calle...</td>\n",
       "      <td>0</td>\n",
       "    </tr>\n",
       "    <tr>\n",
       "      <th>5275</th>\n",
       "      <td>Oh What a Night! (October 2019)</td>\n",
       "      <td>So I had my previous post about an issue at th...</td>\n",
       "      <td>0</td>\n",
       "    </tr>\n",
       "    <tr>\n",
       "      <th>5276</th>\n",
       "      <td>I Know You Just Told Me, But When?</td>\n",
       "      <td>So due to renovations at my job, our photocopi...</td>\n",
       "      <td>0</td>\n",
       "    </tr>\n",
       "  </tbody>\n",
       "</table>\n",
       "<p>5277 rows × 3 columns</p>\n",
       "</div>"
      ],
      "text/plain": [
       "                                                  title  \\\n",
       "0                What do you guys enjoy about your job?   \n",
       "1                         Why the rich stay rich, maybe   \n",
       "2                                    Speechless and sad   \n",
       "3                  Misogynistic Guy Demands A Pie Chart   \n",
       "4          Customer angry refunds are not instantaneous   \n",
       "...                                                 ...   \n",
       "5272                             This ain't a bike road   \n",
       "5273                                 Give me my $10,000   \n",
       "5274  How to explain without making the customer sou...   \n",
       "5275                    Oh What a Night! (October 2019)   \n",
       "5276                 I Know You Just Told Me, But When?   \n",
       "\n",
       "                                               selftext  subreddit  \n",
       "0     Call centre work is fucking hard, and for the ...          1  \n",
       "1     TLDR at end \\n\\nI work in a credit card call c...          1  \n",
       "2     I am an occasional customer of various call ce...          1  \n",
       "3     I've never posted on reddit before! So if some...          1  \n",
       "4     I had to explain that refunds do not instantly...          1  \n",
       "...                                                 ...        ...  \n",
       "5272  Hey first tine poster. I thought this was wort...          0  \n",
       "5273  The place i work has a custom pos system and h...          0  \n",
       "5274  I was working in hardware and a customer calle...          0  \n",
       "5275  So I had my previous post about an issue at th...          0  \n",
       "5276  So due to renovations at my job, our photocopi...          0  \n",
       "\n",
       "[5277 rows x 3 columns]"
      ]
     },
     "execution_count": 3,
     "metadata": {},
     "output_type": "execute_result"
    }
   ],
   "source": [
    "df"
   ]
  },
  {
   "cell_type": "code",
   "execution_count": 4,
   "metadata": {},
   "outputs": [],
   "source": [
    "#df['title'] = df['title'].str.lower().str.split()"
   ]
  },
  {
   "cell_type": "code",
   "execution_count": 5,
   "metadata": {},
   "outputs": [],
   "source": [
    "#df['selftext'] = df['selftext'].str.lower().str.split()"
   ]
  },
  {
   "cell_type": "code",
   "execution_count": 6,
   "metadata": {},
   "outputs": [],
   "source": [
    "stop = stopwords.words('english')\n",
    "df['title'] = df['title'].apply(lambda x: [item for item in x.split() if item not in stop])\n",
    "df['selftext'] = df['selftext'].apply(lambda x: [item for item in x.split() if item not in stop])"
   ]
  },
  {
   "cell_type": "code",
   "execution_count": 7,
   "metadata": {},
   "outputs": [
    {
     "data": {
      "text/html": [
       "<div>\n",
       "<style scoped>\n",
       "    .dataframe tbody tr th:only-of-type {\n",
       "        vertical-align: middle;\n",
       "    }\n",
       "\n",
       "    .dataframe tbody tr th {\n",
       "        vertical-align: top;\n",
       "    }\n",
       "\n",
       "    .dataframe thead th {\n",
       "        text-align: right;\n",
       "    }\n",
       "</style>\n",
       "<table border=\"1\" class=\"dataframe\">\n",
       "  <thead>\n",
       "    <tr style=\"text-align: right;\">\n",
       "      <th></th>\n",
       "      <th>title</th>\n",
       "      <th>selftext</th>\n",
       "      <th>subreddit</th>\n",
       "    </tr>\n",
       "  </thead>\n",
       "  <tbody>\n",
       "    <tr>\n",
       "      <th>0</th>\n",
       "      <td>[What, guys, enjoy, job?]</td>\n",
       "      <td>[Call, centre, work, fucking, hard,, part,, jo...</td>\n",
       "      <td>1</td>\n",
       "    </tr>\n",
       "    <tr>\n",
       "      <th>1</th>\n",
       "      <td>[Why, rich, stay, rich,, maybe]</td>\n",
       "      <td>[TLDR, end, I, work, credit, card, call, cente...</td>\n",
       "      <td>1</td>\n",
       "    </tr>\n",
       "    <tr>\n",
       "      <th>2</th>\n",
       "      <td>[Speechless, sad]</td>\n",
       "      <td>[I, occasional, customer, various, call, centr...</td>\n",
       "      <td>1</td>\n",
       "    </tr>\n",
       "    <tr>\n",
       "      <th>3</th>\n",
       "      <td>[Misogynistic, Guy, Demands, A, Pie, Chart]</td>\n",
       "      <td>[I've, never, posted, reddit, before!, So, som...</td>\n",
       "      <td>1</td>\n",
       "    </tr>\n",
       "    <tr>\n",
       "      <th>4</th>\n",
       "      <td>[Customer, angry, refunds, instantaneous]</td>\n",
       "      <td>[I, explain, refunds, instantly, go, card,, ta...</td>\n",
       "      <td>1</td>\n",
       "    </tr>\n",
       "    <tr>\n",
       "      <th>...</th>\n",
       "      <td>...</td>\n",
       "      <td>...</td>\n",
       "      <td>...</td>\n",
       "    </tr>\n",
       "    <tr>\n",
       "      <th>5272</th>\n",
       "      <td>[This, ain't, bike, road]</td>\n",
       "      <td>[Hey, first, tine, poster., I, thought, worth,...</td>\n",
       "      <td>0</td>\n",
       "    </tr>\n",
       "    <tr>\n",
       "      <th>5273</th>\n",
       "      <td>[Give, $10,000]</td>\n",
       "      <td>[The, place, work, custom, pos, system, half, ...</td>\n",
       "      <td>0</td>\n",
       "    </tr>\n",
       "    <tr>\n",
       "      <th>5274</th>\n",
       "      <td>[How, explain, without, making, customer, soun...</td>\n",
       "      <td>[I, working, hardware, customer, called, wanti...</td>\n",
       "      <td>0</td>\n",
       "    </tr>\n",
       "    <tr>\n",
       "      <th>5275</th>\n",
       "      <td>[Oh, What, Night!, (October, 2019)]</td>\n",
       "      <td>[So, I, previous, post, issue, end, work., I, ...</td>\n",
       "      <td>0</td>\n",
       "    </tr>\n",
       "    <tr>\n",
       "      <th>5276</th>\n",
       "      <td>[I, Know, You, Just, Told, Me,, But, When?]</td>\n",
       "      <td>[So, due, renovations, job,, photocopier, down...</td>\n",
       "      <td>0</td>\n",
       "    </tr>\n",
       "  </tbody>\n",
       "</table>\n",
       "<p>5277 rows × 3 columns</p>\n",
       "</div>"
      ],
      "text/plain": [
       "                                                  title  \\\n",
       "0                             [What, guys, enjoy, job?]   \n",
       "1                       [Why, rich, stay, rich,, maybe]   \n",
       "2                                     [Speechless, sad]   \n",
       "3           [Misogynistic, Guy, Demands, A, Pie, Chart]   \n",
       "4             [Customer, angry, refunds, instantaneous]   \n",
       "...                                                 ...   \n",
       "5272                          [This, ain't, bike, road]   \n",
       "5273                                    [Give, $10,000]   \n",
       "5274  [How, explain, without, making, customer, soun...   \n",
       "5275                [Oh, What, Night!, (October, 2019)]   \n",
       "5276        [I, Know, You, Just, Told, Me,, But, When?]   \n",
       "\n",
       "                                               selftext  subreddit  \n",
       "0     [Call, centre, work, fucking, hard,, part,, jo...          1  \n",
       "1     [TLDR, end, I, work, credit, card, call, cente...          1  \n",
       "2     [I, occasional, customer, various, call, centr...          1  \n",
       "3     [I've, never, posted, reddit, before!, So, som...          1  \n",
       "4     [I, explain, refunds, instantly, go, card,, ta...          1  \n",
       "...                                                 ...        ...  \n",
       "5272  [Hey, first, tine, poster., I, thought, worth,...          0  \n",
       "5273  [The, place, work, custom, pos, system, half, ...          0  \n",
       "5274  [I, working, hardware, customer, called, wanti...          0  \n",
       "5275  [So, I, previous, post, issue, end, work., I, ...          0  \n",
       "5276  [So, due, renovations, job,, photocopier, down...          0  \n",
       "\n",
       "[5277 rows x 3 columns]"
      ]
     },
     "execution_count": 7,
     "metadata": {},
     "output_type": "execute_result"
    }
   ],
   "source": [
    "df"
   ]
  },
  {
   "cell_type": "code",
   "execution_count": 8,
   "metadata": {},
   "outputs": [],
   "source": [
    "df['selftext'] = df['selftext'].astype(str)"
   ]
  },
  {
   "cell_type": "code",
   "execution_count": 9,
   "metadata": {},
   "outputs": [],
   "source": [
    "X = df['selftext']\n",
    "y = df['subreddit']"
   ]
  },
  {
   "cell_type": "code",
   "execution_count": 10,
   "metadata": {},
   "outputs": [
    {
     "data": {
      "text/plain": [
       "0       ['Call', 'centre', 'work', 'fucking', 'hard,',...\n",
       "1       ['TLDR', 'end', 'I', 'work', 'credit', 'card',...\n",
       "2       ['I', 'occasional', 'customer', 'various', 'ca...\n",
       "3       [\"I've\", 'never', 'posted', 'reddit', 'before!...\n",
       "4       ['I', 'explain', 'refunds', 'instantly', 'go',...\n",
       "                              ...                        \n",
       "5272    ['Hey', 'first', 'tine', 'poster.', 'I', 'thou...\n",
       "5273    ['The', 'place', 'work', 'custom', 'pos', 'sys...\n",
       "5274    ['I', 'working', 'hardware', 'customer', 'call...\n",
       "5275    ['So', 'I', 'previous', 'post', 'issue', 'end'...\n",
       "5276    ['So', 'due', 'renovations', 'job,', 'photocop...\n",
       "Name: selftext, Length: 5277, dtype: object"
      ]
     },
     "execution_count": 10,
     "metadata": {},
     "output_type": "execute_result"
    }
   ],
   "source": [
    "X"
   ]
  },
  {
   "cell_type": "code",
   "execution_count": 11,
   "metadata": {},
   "outputs": [],
   "source": [
    "X_train, X_test, y_train, y_test = train_test_split(X,\n",
    "                                                    y,\n",
    "                                                    test_size=0.25,\n",
    "                                                    stratify=y,\n",
    "                                                    random_state=42)"
   ]
  },
  {
   "cell_type": "code",
   "execution_count": 12,
   "metadata": {},
   "outputs": [
    {
     "data": {
      "text/plain": [
       "5197    ['I', 'work', 'café', 'college', 'campus.', \"I...\n",
       "1011    ['So', '10', 'years', 'ago', 'I', 'Call', 'Cen...\n",
       "2603    ['I', 'work', 'insurance', 'company', 'filing'...\n",
       "1810    ['Today', '*worst*,', 'I', 'hate', 'I', 'start...\n",
       "2151    ['This', 'somewhat', 'longish.', 'I', 'work', ...\n",
       "Name: selftext, dtype: object"
      ]
     },
     "execution_count": 12,
     "metadata": {},
     "output_type": "execute_result"
    }
   ],
   "source": [
    "X_train.head()"
   ]
  },
  {
   "cell_type": "code",
   "execution_count": 13,
   "metadata": {},
   "outputs": [
    {
     "data": {
      "text/plain": [
       "1    0.633333\n",
       "0    0.366667\n",
       "Name: subreddit, dtype: float64"
      ]
     },
     "execution_count": 13,
     "metadata": {},
     "output_type": "execute_result"
    }
   ],
   "source": [
    "y_test.value_counts(normalize=True)"
   ]
  },
  {
   "cell_type": "code",
   "execution_count": 14,
   "metadata": {},
   "outputs": [],
   "source": [
    "cvec = CountVectorizer()"
   ]
  },
  {
   "cell_type": "code",
   "execution_count": 15,
   "metadata": {},
   "outputs": [
    {
     "data": {
      "text/plain": [
       "CountVectorizer(analyzer='word', binary=False, decode_error='strict',\n",
       "                dtype=<class 'numpy.int64'>, encoding='utf-8', input='content',\n",
       "                lowercase=True, max_df=1.0, max_features=None, min_df=1,\n",
       "                ngram_range=(1, 1), preprocessor=None, stop_words=None,\n",
       "                strip_accents=None, token_pattern='(?u)\\\\b\\\\w\\\\w+\\\\b',\n",
       "                tokenizer=None, vocabulary=None)"
      ]
     },
     "execution_count": 15,
     "metadata": {},
     "output_type": "execute_result"
    }
   ],
   "source": [
    "cvec.fit(X_train)"
   ]
  },
  {
   "cell_type": "code",
   "execution_count": 16,
   "metadata": {},
   "outputs": [],
   "source": [
    "X_train = cvec.transform(X_train)"
   ]
  },
  {
   "cell_type": "code",
   "execution_count": 17,
   "metadata": {},
   "outputs": [
    {
     "data": {
      "text/html": [
       "<div>\n",
       "<style scoped>\n",
       "    .dataframe tbody tr th:only-of-type {\n",
       "        vertical-align: middle;\n",
       "    }\n",
       "\n",
       "    .dataframe tbody tr th {\n",
       "        vertical-align: top;\n",
       "    }\n",
       "\n",
       "    .dataframe thead th {\n",
       "        text-align: right;\n",
       "    }\n",
       "</style>\n",
       "<table border=\"1\" class=\"dataframe\">\n",
       "  <thead>\n",
       "    <tr style=\"text-align: right;\">\n",
       "      <th></th>\n",
       "      <th>00</th>\n",
       "      <th>000</th>\n",
       "      <th>0000</th>\n",
       "      <th>0000000</th>\n",
       "      <th>000000000</th>\n",
       "      <th>0001</th>\n",
       "      <th>000111222333</th>\n",
       "      <th>000can</th>\n",
       "      <th>000sq</th>\n",
       "      <th>001150021231</th>\n",
       "      <th>...</th>\n",
       "      <th>zone</th>\n",
       "      <th>zones</th>\n",
       "      <th>zoning</th>\n",
       "      <th>zoo</th>\n",
       "      <th>zoom</th>\n",
       "      <th>zucchini</th>\n",
       "      <th>zurich</th>\n",
       "      <th>zyx</th>\n",
       "      <th>zz</th>\n",
       "      <th>唔知廣東話嗎</th>\n",
       "    </tr>\n",
       "  </thead>\n",
       "  <tbody>\n",
       "    <tr>\n",
       "      <th>0</th>\n",
       "      <td>0</td>\n",
       "      <td>0</td>\n",
       "      <td>0</td>\n",
       "      <td>0</td>\n",
       "      <td>0</td>\n",
       "      <td>0</td>\n",
       "      <td>0</td>\n",
       "      <td>0</td>\n",
       "      <td>0</td>\n",
       "      <td>0</td>\n",
       "      <td>...</td>\n",
       "      <td>0</td>\n",
       "      <td>0</td>\n",
       "      <td>0</td>\n",
       "      <td>0</td>\n",
       "      <td>0</td>\n",
       "      <td>0</td>\n",
       "      <td>0</td>\n",
       "      <td>0</td>\n",
       "      <td>0</td>\n",
       "      <td>0</td>\n",
       "    </tr>\n",
       "    <tr>\n",
       "      <th>1</th>\n",
       "      <td>0</td>\n",
       "      <td>0</td>\n",
       "      <td>0</td>\n",
       "      <td>0</td>\n",
       "      <td>0</td>\n",
       "      <td>0</td>\n",
       "      <td>0</td>\n",
       "      <td>0</td>\n",
       "      <td>0</td>\n",
       "      <td>0</td>\n",
       "      <td>...</td>\n",
       "      <td>0</td>\n",
       "      <td>0</td>\n",
       "      <td>0</td>\n",
       "      <td>0</td>\n",
       "      <td>0</td>\n",
       "      <td>0</td>\n",
       "      <td>0</td>\n",
       "      <td>0</td>\n",
       "      <td>0</td>\n",
       "      <td>0</td>\n",
       "    </tr>\n",
       "    <tr>\n",
       "      <th>2</th>\n",
       "      <td>0</td>\n",
       "      <td>0</td>\n",
       "      <td>0</td>\n",
       "      <td>0</td>\n",
       "      <td>0</td>\n",
       "      <td>0</td>\n",
       "      <td>0</td>\n",
       "      <td>0</td>\n",
       "      <td>0</td>\n",
       "      <td>0</td>\n",
       "      <td>...</td>\n",
       "      <td>0</td>\n",
       "      <td>0</td>\n",
       "      <td>0</td>\n",
       "      <td>0</td>\n",
       "      <td>0</td>\n",
       "      <td>0</td>\n",
       "      <td>0</td>\n",
       "      <td>0</td>\n",
       "      <td>0</td>\n",
       "      <td>0</td>\n",
       "    </tr>\n",
       "    <tr>\n",
       "      <th>3</th>\n",
       "      <td>0</td>\n",
       "      <td>0</td>\n",
       "      <td>0</td>\n",
       "      <td>0</td>\n",
       "      <td>0</td>\n",
       "      <td>0</td>\n",
       "      <td>0</td>\n",
       "      <td>0</td>\n",
       "      <td>0</td>\n",
       "      <td>0</td>\n",
       "      <td>...</td>\n",
       "      <td>0</td>\n",
       "      <td>0</td>\n",
       "      <td>0</td>\n",
       "      <td>0</td>\n",
       "      <td>0</td>\n",
       "      <td>0</td>\n",
       "      <td>0</td>\n",
       "      <td>0</td>\n",
       "      <td>0</td>\n",
       "      <td>0</td>\n",
       "    </tr>\n",
       "    <tr>\n",
       "      <th>4</th>\n",
       "      <td>0</td>\n",
       "      <td>0</td>\n",
       "      <td>0</td>\n",
       "      <td>0</td>\n",
       "      <td>0</td>\n",
       "      <td>0</td>\n",
       "      <td>0</td>\n",
       "      <td>0</td>\n",
       "      <td>0</td>\n",
       "      <td>0</td>\n",
       "      <td>...</td>\n",
       "      <td>0</td>\n",
       "      <td>0</td>\n",
       "      <td>0</td>\n",
       "      <td>0</td>\n",
       "      <td>0</td>\n",
       "      <td>0</td>\n",
       "      <td>0</td>\n",
       "      <td>0</td>\n",
       "      <td>0</td>\n",
       "      <td>0</td>\n",
       "    </tr>\n",
       "  </tbody>\n",
       "</table>\n",
       "<p>5 rows × 24872 columns</p>\n",
       "</div>"
      ],
      "text/plain": [
       "   00  000  0000  0000000  000000000  0001  000111222333  000can  000sq  \\\n",
       "0   0    0     0        0          0     0             0       0      0   \n",
       "1   0    0     0        0          0     0             0       0      0   \n",
       "2   0    0     0        0          0     0             0       0      0   \n",
       "3   0    0     0        0          0     0             0       0      0   \n",
       "4   0    0     0        0          0     0             0       0      0   \n",
       "\n",
       "   001150021231  ...  zone  zones  zoning  zoo  zoom  zucchini  zurich  zyx  \\\n",
       "0             0  ...     0      0       0    0     0         0       0    0   \n",
       "1             0  ...     0      0       0    0     0         0       0    0   \n",
       "2             0  ...     0      0       0    0     0         0       0    0   \n",
       "3             0  ...     0      0       0    0     0         0       0    0   \n",
       "4             0  ...     0      0       0    0     0         0       0    0   \n",
       "\n",
       "   zz  唔知廣東話嗎  \n",
       "0   0       0  \n",
       "1   0       0  \n",
       "2   0       0  \n",
       "3   0       0  \n",
       "4   0       0  \n",
       "\n",
       "[5 rows x 24872 columns]"
      ]
     },
     "execution_count": 17,
     "metadata": {},
     "output_type": "execute_result"
    }
   ],
   "source": [
    "X_train_df = pd.DataFrame(X_train.toarray(),\n",
    "                          columns=cvec.get_feature_names())\n",
    "X_train_df.head()"
   ]
  },
  {
   "cell_type": "code",
   "execution_count": 18,
   "metadata": {},
   "outputs": [
    {
     "data": {
      "text/html": [
       "<div>\n",
       "<style scoped>\n",
       "    .dataframe tbody tr th:only-of-type {\n",
       "        vertical-align: middle;\n",
       "    }\n",
       "\n",
       "    .dataframe tbody tr th {\n",
       "        vertical-align: top;\n",
       "    }\n",
       "\n",
       "    .dataframe thead th {\n",
       "        text-align: right;\n",
       "    }\n",
       "</style>\n",
       "<table border=\"1\" class=\"dataframe\">\n",
       "  <thead>\n",
       "    <tr style=\"text-align: right;\">\n",
       "      <th></th>\n",
       "      <th>00</th>\n",
       "      <th>000</th>\n",
       "      <th>0000</th>\n",
       "      <th>0000000</th>\n",
       "      <th>000000000</th>\n",
       "      <th>0001</th>\n",
       "      <th>000111222333</th>\n",
       "      <th>000can</th>\n",
       "      <th>000sq</th>\n",
       "      <th>001150021231</th>\n",
       "      <th>...</th>\n",
       "      <th>zone</th>\n",
       "      <th>zones</th>\n",
       "      <th>zoning</th>\n",
       "      <th>zoo</th>\n",
       "      <th>zoom</th>\n",
       "      <th>zucchini</th>\n",
       "      <th>zurich</th>\n",
       "      <th>zyx</th>\n",
       "      <th>zz</th>\n",
       "      <th>唔知廣東話嗎</th>\n",
       "    </tr>\n",
       "  </thead>\n",
       "  <tbody>\n",
       "    <tr>\n",
       "      <th>0</th>\n",
       "      <td>0</td>\n",
       "      <td>0</td>\n",
       "      <td>0</td>\n",
       "      <td>0</td>\n",
       "      <td>0</td>\n",
       "      <td>0</td>\n",
       "      <td>0</td>\n",
       "      <td>0</td>\n",
       "      <td>0</td>\n",
       "      <td>0</td>\n",
       "      <td>...</td>\n",
       "      <td>0</td>\n",
       "      <td>0</td>\n",
       "      <td>0</td>\n",
       "      <td>0</td>\n",
       "      <td>0</td>\n",
       "      <td>0</td>\n",
       "      <td>0</td>\n",
       "      <td>0</td>\n",
       "      <td>0</td>\n",
       "      <td>0</td>\n",
       "    </tr>\n",
       "    <tr>\n",
       "      <th>1</th>\n",
       "      <td>0</td>\n",
       "      <td>0</td>\n",
       "      <td>0</td>\n",
       "      <td>0</td>\n",
       "      <td>0</td>\n",
       "      <td>0</td>\n",
       "      <td>0</td>\n",
       "      <td>0</td>\n",
       "      <td>0</td>\n",
       "      <td>0</td>\n",
       "      <td>...</td>\n",
       "      <td>0</td>\n",
       "      <td>0</td>\n",
       "      <td>0</td>\n",
       "      <td>0</td>\n",
       "      <td>0</td>\n",
       "      <td>0</td>\n",
       "      <td>0</td>\n",
       "      <td>0</td>\n",
       "      <td>0</td>\n",
       "      <td>0</td>\n",
       "    </tr>\n",
       "    <tr>\n",
       "      <th>2</th>\n",
       "      <td>0</td>\n",
       "      <td>0</td>\n",
       "      <td>0</td>\n",
       "      <td>0</td>\n",
       "      <td>0</td>\n",
       "      <td>0</td>\n",
       "      <td>0</td>\n",
       "      <td>0</td>\n",
       "      <td>0</td>\n",
       "      <td>0</td>\n",
       "      <td>...</td>\n",
       "      <td>0</td>\n",
       "      <td>0</td>\n",
       "      <td>0</td>\n",
       "      <td>0</td>\n",
       "      <td>0</td>\n",
       "      <td>0</td>\n",
       "      <td>0</td>\n",
       "      <td>0</td>\n",
       "      <td>0</td>\n",
       "      <td>0</td>\n",
       "    </tr>\n",
       "    <tr>\n",
       "      <th>3</th>\n",
       "      <td>0</td>\n",
       "      <td>0</td>\n",
       "      <td>0</td>\n",
       "      <td>0</td>\n",
       "      <td>0</td>\n",
       "      <td>0</td>\n",
       "      <td>0</td>\n",
       "      <td>0</td>\n",
       "      <td>0</td>\n",
       "      <td>0</td>\n",
       "      <td>...</td>\n",
       "      <td>0</td>\n",
       "      <td>0</td>\n",
       "      <td>0</td>\n",
       "      <td>0</td>\n",
       "      <td>0</td>\n",
       "      <td>0</td>\n",
       "      <td>0</td>\n",
       "      <td>0</td>\n",
       "      <td>0</td>\n",
       "      <td>0</td>\n",
       "    </tr>\n",
       "    <tr>\n",
       "      <th>4</th>\n",
       "      <td>0</td>\n",
       "      <td>0</td>\n",
       "      <td>0</td>\n",
       "      <td>0</td>\n",
       "      <td>0</td>\n",
       "      <td>0</td>\n",
       "      <td>0</td>\n",
       "      <td>0</td>\n",
       "      <td>0</td>\n",
       "      <td>0</td>\n",
       "      <td>...</td>\n",
       "      <td>0</td>\n",
       "      <td>0</td>\n",
       "      <td>0</td>\n",
       "      <td>0</td>\n",
       "      <td>0</td>\n",
       "      <td>0</td>\n",
       "      <td>0</td>\n",
       "      <td>0</td>\n",
       "      <td>0</td>\n",
       "      <td>0</td>\n",
       "    </tr>\n",
       "  </tbody>\n",
       "</table>\n",
       "<p>5 rows × 24872 columns</p>\n",
       "</div>"
      ],
      "text/plain": [
       "   00  000  0000  0000000  000000000  0001  000111222333  000can  000sq  \\\n",
       "0   0    0     0        0          0     0             0       0      0   \n",
       "1   0    0     0        0          0     0             0       0      0   \n",
       "2   0    0     0        0          0     0             0       0      0   \n",
       "3   0    0     0        0          0     0             0       0      0   \n",
       "4   0    0     0        0          0     0             0       0      0   \n",
       "\n",
       "   001150021231  ...  zone  zones  zoning  zoo  zoom  zucchini  zurich  zyx  \\\n",
       "0             0  ...     0      0       0    0     0         0       0    0   \n",
       "1             0  ...     0      0       0    0     0         0       0    0   \n",
       "2             0  ...     0      0       0    0     0         0       0    0   \n",
       "3             0  ...     0      0       0    0     0         0       0    0   \n",
       "4             0  ...     0      0       0    0     0         0       0    0   \n",
       "\n",
       "   zz  唔知廣東話嗎  \n",
       "0   0       0  \n",
       "1   0       0  \n",
       "2   0       0  \n",
       "3   0       0  \n",
       "4   0       0  \n",
       "\n",
       "[5 rows x 24872 columns]"
      ]
     },
     "execution_count": 18,
     "metadata": {},
     "output_type": "execute_result"
    }
   ],
   "source": [
    "X_test = cvec.transform(X_test)\n",
    "X_test_df = pd.DataFrame(X_test.toarray(),\n",
    "                         columns=cvec.get_feature_names())\n",
    "\n",
    "X_test_df.head()"
   ]
  },
  {
   "cell_type": "code",
   "execution_count": 19,
   "metadata": {},
   "outputs": [],
   "source": [
    "X_train, X_test, y_train, y_test = train_test_split(X,\n",
    "                                                    y,\n",
    "                                                    test_size=0.25,\n",
    "                                                    stratify=y,\n",
    "                                                    random_state=42)"
   ]
  },
  {
   "cell_type": "code",
   "execution_count": 20,
   "metadata": {},
   "outputs": [],
   "source": [
    "pipe = Pipeline([\n",
    "    ('cvec', CountVectorizer()),\n",
    "    ('lr', LogisticRegression(solver= 'lbfgs'))\n",
    "])"
   ]
  },
  {
   "cell_type": "code",
   "execution_count": 21,
   "metadata": {},
   "outputs": [],
   "source": [
    "featured_stopwords = ['beyond', 'although', 'then', 'throughout', 'though', 'cry', 'whereupon', 'none', 'across', 'latter', 'most', 'once', 'here', \n",
    "                    'meanwhile', 'five', 'hers', 'keep', 'of', 'seeming', 'sometime', 'perhaps', 'twenty', 'per', 'each', 'fire', 'would', 'those', \n",
    "                    'nowhere', 'such', 'every', 'back', 'hasnt', 'as', 'otherwise', 'next', 'towards', 'thence', 'become', 'my', 'thru', 'hundred', \n",
    "                    'con', 'anyone', 'on', 'without', 'nor', 'being', 'could', 'same', 'eg', 'afterwards', 'at', 'etc', 'now', 'full', 'becomes', 'down', \n",
    "                    'must', 'seem', 'for', 'bottom', 'this', 'formerly', 'anything', 'empty', 'elsewhere', 'hereby', 'interest', 'de', 'everyone', 'to', \n",
    "                    'but', 'anyhow', 'been', 'thereby', 'therein', 'themselves', 'part', 'hereupon', 'others', 'you', 'yours', 'so', 'yet', 'always', 'six',\n",
    "                    'forty', 'everywhere', 'are', 'wherever', 'when', 'own', 'least', 'eleven', 'more', 'might', 'eight', 'than', 'whereas', 'put', 'thereafter',\n",
    "                    'herein', 'amongst', 'after', 'describe', 'four', 'one', 'system', 'whether', 'his', 'due', 'may', 'cant', 'the', 'three', 'either', 'everything',\n",
    "                    'too', 'take', 'couldnt', 'find', 'bill', 'should', 'fifty', 'ours', 'ever', 'out', 'give', 'anywhere', 'or', 'around', 'toward', 'anyway',\n",
    "                    'not', 'ie', 'there', 'many', 'by', 'under', 'last', 'and', 'myself', 'with', 'herself', 'them', 'latterly', 'yourself', 'whose', \n",
    "                    'enough', 'within', 'again', 'found', 'a', 'former', 'thick', 'which', 'detail', 'together', 'has', 'twelve', 'thus', 'your', \n",
    "                    'further', 'rather', 'wherein', 'often', 'from', 'can', 'therefore', 'moreover', 'very', 'move', 'done', 'nothing', 'had', 'whatever', \n",
    "                    'beforehand', 'name', 'hence', 'front', 'until', 'neither', 'fill', 'they', 'cannot', 'mine', 'off', 'whole', 'sixty', 'where', 'its', 'over',\n",
    "                    'thereupon', 'an', 'get', 'beside', 'himself', 'via', 'mostly', 'about', 'both', 'even', 'third', 'up', 'nobody', 'she', 'else', 'all', 'amoungst', \n",
    "                    'any', 'hereafter', 'it', 'our', 'us', 'nevertheless', 'since', 'whereafter', 'something', 'is', 'among', 'ltd', 'we', 'top', 'seems',\n",
    "                    'besides', 'side', 'namely', 'me', 'amount', 'be', 'these', 'sincere', 'were', 'their', 'have', 'serious', 'through',\n",
    "                    're', 'never', 'somehow', 'few', 'itself', 'show', 'indeed', 'fifteen', 'whom', 'several', 'whenever', 'that', 'also',\n",
    "                    'first', 'because', 'upon', 'was', 'whoever', 'thin', 'seemed', 'nine', 'what', 'him', 'becoming', 'however', 'into', 'during', \n",
    "                    'will', 'became', 'yourselves', 'ten', 'how', 'ourselves', 'noone', 'somewhere', 'onto', 'who', 'only', 'behind', 'co', 'whence',\n",
    "                    'below', 'call', 'still', 'against', 'her', 'go', 'someone', 'mill', 'please', 'between', 'two', 'whither', 'do', 'why', 'above',\n",
    "                    'some', 'if', 'in', 'alone', 'see', 'almost', 'already', 'he', 'i', 'less', 'much', 'well', 'inc', 'along', 'sometimes', 'while', 'whereby',\n",
    "                    'before', 'other', 'another', 'except', 'made', 'am', 'un', 'no', 'just', 'im', 'call', 'customer', 'store', 'company', 'amp', 'calls',\n",
    "                    'account', 'customers', 'phone']"
   ]
  },
  {
   "cell_type": "code",
   "execution_count": 22,
   "metadata": {},
   "outputs": [],
   "source": [
    "pipe_params = {\n",
    "    'cvec__max_features': [2000, 3000, 4000],\n",
    "    'cvec__stop_words':[featured_stopwords],\n",
    "    'cvec__ngram_range': [(1,1), (1,2), (2,3)]\n",
    "}"
   ]
  },
  {
   "cell_type": "code",
   "execution_count": 23,
   "metadata": {},
   "outputs": [],
   "source": [
    "gs = GridSearchCV(pipe, # what object are we optimizing?\n",
    "                  pipe_params, # what parameters values are we searching?\n",
    "                  cv=5) # 5-fold cross-validation."
   ]
  },
  {
   "cell_type": "code",
   "execution_count": 24,
   "metadata": {},
   "outputs": [
    {
     "data": {
      "text/plain": [
       "GridSearchCV(cv=5, error_score=nan,\n",
       "             estimator=Pipeline(memory=None,\n",
       "                                steps=[('cvec',\n",
       "                                        CountVectorizer(analyzer='word',\n",
       "                                                        binary=False,\n",
       "                                                        decode_error='strict',\n",
       "                                                        dtype=<class 'numpy.int64'>,\n",
       "                                                        encoding='utf-8',\n",
       "                                                        input='content',\n",
       "                                                        lowercase=True,\n",
       "                                                        max_df=1.0,\n",
       "                                                        max_features=None,\n",
       "                                                        min_df=1,\n",
       "                                                        ngram_range=(1, 1),\n",
       "                                                        preprocessor=None,\n",
       "                                                        stop_words=None,\n",
       "                                                        strip_accents=None,\n",
       "                                                        token_pattern='(?u)...\n",
       "                         'cvec__stop_words': [['beyond', 'although', 'then',\n",
       "                                               'throughout', 'though', 'cry',\n",
       "                                               'whereupon', 'none', 'across',\n",
       "                                               'latter', 'most', 'once', 'here',\n",
       "                                               'meanwhile', 'five', 'hers',\n",
       "                                               'keep', 'of', 'seeming',\n",
       "                                               'sometime', 'perhaps', 'twenty',\n",
       "                                               'per', 'each', 'fire', 'would',\n",
       "                                               'those', 'nowhere', 'such',\n",
       "                                               'every', ...]]},\n",
       "             pre_dispatch='2*n_jobs', refit=True, return_train_score=False,\n",
       "             scoring=None, verbose=0)"
      ]
     },
     "execution_count": 24,
     "metadata": {},
     "output_type": "execute_result"
    }
   ],
   "source": [
    "gs.fit(X_train, y_train)"
   ]
  },
  {
   "cell_type": "code",
   "execution_count": 25,
   "metadata": {},
   "outputs": [
    {
     "data": {
      "text/plain": [
       "0.9446567444355054"
      ]
     },
     "execution_count": 25,
     "metadata": {},
     "output_type": "execute_result"
    }
   ],
   "source": [
    "gs.best_score_"
   ]
  },
  {
   "cell_type": "code",
   "execution_count": 26,
   "metadata": {},
   "outputs": [],
   "source": [
    "gs.best_params_;"
   ]
  },
  {
   "cell_type": "code",
   "execution_count": 27,
   "metadata": {},
   "outputs": [
    {
     "name": "stdout",
     "output_type": "stream",
     "text": [
      "Score on training set: 0.9997472832954258\n",
      "Score on testing set: 0.9386363636363636\n"
     ]
    }
   ],
   "source": [
    "print(f'Score on training set: {gs.score(X_train, y_train)}')\n",
    "print(f'Score on testing set: {gs.score(X_test, y_test)}')"
   ]
  },
  {
   "cell_type": "code",
   "execution_count": 28,
   "metadata": {},
   "outputs": [],
   "source": [
    "## this code is from the week 4 lab 2 Prediciting Kidney Disease Author: Matt Brems \n",
    "def roc(probas, true, step=0.01):\n",
    "    \"\"\"\n",
    "    probas should be a numpy array of predict_probas\n",
    "    true is a pandas series of true labels\n",
    "    step is the step size for checking thresholds\n",
    "    \"\"\"\n",
    "    \n",
    "    probas = probas[:,1]  # The output of predict_proba() is an array of the probabilities for every class, but we only want the probabilities for class 1\n",
    "    true = true.values    # We need to convert the class labels from a Pandas Series to a numpy array. We do this using the .values attribute\n",
    "    assert(len(probas) == len(true)) # We're making sure that our probabilities vector is the same length as our true class labesl vector\n",
    "    \n",
    "    TPRs = [] # Setting up empty list of True Positive Rate\n",
    "    FPRs = [] # Setting up empty list of False Positive Rate\n",
    "    \n",
    "    for i in np.arange(0.0,1.0,step): # np.arange allows us to use step sizes that are decimals\n",
    "        preds_class = probas > i # Numpy arrays have a feature called 'broadcasting.' Check the documentation: https://docs.scipy.org/doc/numpy-1.13.0/user/basics.broadcasting.html to see what this does.\n",
    "        TP = 0 \n",
    "        FP = 0\n",
    "        TN = 0\n",
    "        FN = 0\n",
    "        for index in range(len(preds_class)): # We're comparing each prediction with each true value here\n",
    "\n",
    "            if preds_class[index] == 1 and true[index] == 1:\n",
    "                TP += 1\n",
    "            elif preds_class[index] == 1 and true[index] == 0:\n",
    "                FP += 1\n",
    "            elif preds_class[index] == 0 and true[index] == 0:\n",
    "                TN += 1 \n",
    "            elif preds_class[index] == 0 and true[index] == 1:\n",
    "                FN += 1\n",
    "                \n",
    "        TPR = TP/(TP + FN) # Calculating TPR and FPR and appending to our lists\n",
    "        FPR = FP/(FP + TN)\n",
    "        \n",
    "        TPRs.append(TPR)\n",
    "        FPRs.append(FPR)\n",
    "         \n",
    "    plt.rcParams['font.size'] = 14\n",
    "    plt.plot(FPRs, TPRs, color=\"orange\")\n",
    "    plt.plot([0,1],[0,1], color='navy', lw=2, linestyle='--')\n",
    "    plt.xlim([0.0, 1.0])\n",
    "    plt.ylim([0.0, 1.0])\n",
    "    plt.title('Receiver Operating Characteristic')\n",
    "    plt.xlabel(\"False Positive Rate (1 - Specificity)\")\n",
    "    plt.ylabel(\"True Positive Rate (Sensitivity)\")\n",
    "    plt.show();"
   ]
  },
  {
   "cell_type": "code",
   "execution_count": 29,
   "metadata": {},
   "outputs": [
    {
     "data": {
      "image/png": "[encoded data removed]",
      "text/plain": [
       "<Figure size 864x576 with 1 Axes>"
      ]
     },
     "metadata": {
      "needs_background": "light"
     },
     "output_type": "display_data"
    }
   ],
   "source": [
    "plt.figure(figsize = (12,8))\n",
    "probabilities = gs.predict_proba(X_test)\n",
    "\n",
    "roc(probas = probabilities, # pass in series of probabilities \n",
    "    true = y_test,          # pass in series of true values\n",
    "    step=0.001); "
   ]
  },
  {
   "cell_type": "code",
   "execution_count": 30,
   "metadata": {},
   "outputs": [
    {
     "name": "stderr",
     "output_type": "stream",
     "text": [
      "C:\\Users\\blang\\Anaconda3\\lib\\site-packages\\sklearn\\utils\\deprecation.py:87: FutureWarning: Function plot_roc_curve is deprecated; This will be removed in v0.5.0. Please use scikitplot.metrics.plot_roc instead.\n",
      "  warnings.warn(msg, category=FutureWarning)\n"
     ]
    },
    {
     "data": {
      "image/png": "[encoded data removed]",
      "text/plain": [
       "<Figure size 432x288 with 1 Axes>"
      ]
     },
     "metadata": {
      "needs_background": "light"
     },
     "output_type": "display_data"
    }
   ],
   "source": [
    "import scikitplot as skplt #to make things easy\n",
    "y_pred_proba = gs.predict_proba(X_test)\n",
    "skplt.metrics.plot_roc_curve(y_test, y_pred_proba)\n",
    "plt.show()"
   ]
  },
  {
   "cell_type": "code",
   "execution_count": 31,
   "metadata": {},
   "outputs": [
    {
     "data": {
      "text/plain": [
       "array([[3.94758864e-02, 9.60524114e-01],\n",
       "       [9.81915652e-02, 9.01808435e-01],\n",
       "       [4.30550403e-05, 9.99956945e-01],\n",
       "       ...,\n",
       "       [7.56590242e-05, 9.99924341e-01],\n",
       "       [1.29351162e-04, 9.99870649e-01],\n",
       "       [7.57506278e-01, 2.42493722e-01]])"
      ]
     },
     "execution_count": 31,
     "metadata": {},
     "output_type": "execute_result"
    }
   ],
   "source": [
    "probabilities"
   ]
  },
  {
   "cell_type": "code",
   "execution_count": 32,
   "metadata": {},
   "outputs": [],
   "source": [
    "preds = gs.predict(X_test)"
   ]
  },
  {
   "cell_type": "code",
   "execution_count": 33,
   "metadata": {},
   "outputs": [
    {
     "data": {
      "text/plain": [
       "array([1, 1, 1, 0, 1, 1, 0, 1, 1], dtype=int64)"
      ]
     },
     "execution_count": 33,
     "metadata": {},
     "output_type": "execute_result"
    }
   ],
   "source": [
    "preds[1:10]"
   ]
  },
  {
   "cell_type": "code",
   "execution_count": 34,
   "metadata": {},
   "outputs": [],
   "source": [
    "from sklearn.metrics import confusion_matrix"
   ]
  },
  {
   "cell_type": "code",
   "execution_count": 35,
   "metadata": {},
   "outputs": [
    {
     "name": "stdout",
     "output_type": "stream",
     "text": [
      "[[432  52]\n",
      " [ 29 807]]\n"
     ]
    }
   ],
   "source": [
    "tn, fp, fn, tp = confusion_matrix(y_test,\n",
    "                                  preds).ravel()\n",
    "\n",
    "print(confusion_matrix(y_test,\n",
    "                       preds))"
   ]
  },
  {
   "cell_type": "code",
   "execution_count": 36,
   "metadata": {},
   "outputs": [
    {
     "name": "stdout",
     "output_type": "stream",
     "text": [
      "Sensitivity: 0.9653\n"
     ]
    }
   ],
   "source": [
    "# Calculate sensitivity.\n",
    "\n",
    "sens = tp / (tp + fn)\n",
    "\n",
    "print(f'Sensitivity: {round(sens, 4)}')"
   ]
  },
  {
   "cell_type": "code",
   "execution_count": 37,
   "metadata": {},
   "outputs": [
    {
     "name": "stdout",
     "output_type": "stream",
     "text": [
      "Specificity: 0.8926\n"
     ]
    }
   ],
   "source": [
    "# Calculate specificity.\n",
    "\n",
    "spec = tn / (tn + fp)\n",
    "\n",
    "print(f'Specificity: {round(spec, 4)}')"
   ]
  },
  {
   "cell_type": "code",
   "execution_count": 38,
   "metadata": {},
   "outputs": [
    {
     "name": "stdout",
     "output_type": "stream",
     "text": [
      "Precision: 0.9395\n"
     ]
    }
   ],
   "source": [
    "prec = tp / (tp +fp)\n",
    "\n",
    "print(f'Precision: {round(prec, 4)}')"
   ]
  },
  {
   "cell_type": "code",
   "execution_count": 39,
   "metadata": {},
   "outputs": [
    {
     "data": {
      "text/plain": [
       "<matplotlib.axes._subplots.AxesSubplot at 0x252d8d30308>"
      ]
     },
     "execution_count": 39,
     "metadata": {},
     "output_type": "execute_result"
    },
    {
     "data": {
      "image/png": "[encoded data removed]",
      "text/plain": [
       "<Figure size 432x288 with 2 Axes>"
      ]
     },
     "metadata": {
      "needs_background": "light"
     },
     "output_type": "display_data"
    }
   ],
   "source": [
    "from sklearn.metrics import confusion_matrix\n",
    "cm = confusion_matrix(y_test, preds)\n",
    "##### this code was found on https://medium.com/@dtuk81/confusion-matrix-visualization-fc31e3f30fea\n",
    "group_names = ['True Neg','False Pos','False Neg','True Pos']\n",
    "group_counts = ['{0:0.0f}'.format(value) for value in\n",
    "                cm.flatten()]\n",
    "group_percentages = ['{0:.2%}'.format(value) for value in\n",
    "                     cm.flatten()/np.sum(cm)]\n",
    "labels = [f'{v1}\\n{v2}\\n{v3}' for v1, v2, v3 in\n",
    "          zip(group_names,group_counts,group_percentages)]\n",
    "labels = np.asarray(labels).reshape(2,2)\n",
    "sns.heatmap(cm, annot=labels, fmt='', cmap='rainbow')"
   ]
  },
  {
   "cell_type": "code",
   "execution_count": null,
   "metadata": {},
   "outputs": [],
   "source": []
  }
 ],
 "metadata": {
  "kernelspec": {
   "display_name": "Python 3",
   "language": "python",
   "name": "python3"
  },
  "language_info": {
   "codemirror_mode": {
    "name": "ipython",
    "version": 3
   },
   "file_extension": ".py",
   "mimetype": "text/x-python",
   "name": "python",
   "nbconvert_exporter": "python",
   "pygments_lexer": "ipython3",
   "version": "3.7.6"
  }
 },
 "nbformat": 4,
 "nbformat_minor": 4
}
